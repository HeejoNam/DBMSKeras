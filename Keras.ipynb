{
 "cells": [
  {
   "cell_type": "code",
   "execution_count": 1,
   "metadata": {},
   "outputs": [
    {
     "name": "stderr",
     "output_type": "stream",
     "text": [
      "Using TensorFlow backend.\n"
     ]
    },
    {
     "name": "stdout",
     "output_type": "stream",
     "text": [
      "Downloading data from https://s3.amazonaws.com/img-datasets/mnist.npz\n",
      "11493376/11490434 [==============================] - 15s 1us/step\n"
     ]
    }
   ],
   "source": [
    "from keras.models import Sequential\n",
    "from keras.layers import Dense\n",
    "from keras.optimizers import SGD\n",
    "\n",
    "# Load data\n",
    "from keras.datasets import mnist\n",
    "(x_train, y_train), (x_test, y_test) = mnist.load_data()\n",
    "# ... more preprocessing\n",
    "\n",
    "#Define model\n",
    "model = Sequential()"
   ]
  },
  {
   "cell_type": "code",
   "execution_count": 3,
   "metadata": {},
   "outputs": [],
   "source": [
    "from keras.datasets import mnist\n",
    "from keras.utils import to_categorical\n",
    "from keras.models import Sequential\n",
    "from keras.layers import Dense, Dropout\n",
    "\n",
    "batch_size = 128\n",
    "num_classes = 10\n",
    "epochs = 20\n",
    "\n",
    "(x_train, y_train), (x_test, y_test) = mnist.load_data()"
   ]
  },
  {
   "cell_type": "code",
   "execution_count": 4,
   "metadata": {},
   "outputs": [],
   "source": [
    "x_train = x_train.reshape(60000, 784)\n",
    "x_test = x_test.reshape(10000, 784)\n",
    "x_train = x_train.astype('float32')\n",
    "x_test = x_test.astype('float32')\n",
    "x_train /=255\n",
    "x_test /= 255\n",
    "\n",
    "y_train = to_categorical(y_train, num_classes)\n",
    "y_test = to_categorical(y_test, num_classes)"
   ]
  },
  {
   "cell_type": "code",
   "execution_count": 7,
   "metadata": {},
   "outputs": [
    {
     "name": "stdout",
     "output_type": "stream",
     "text": [
      "WARNING:tensorflow:From /Users/sophienam/anaconda3/lib/python3.7/site-packages/keras/backend/tensorflow_backend.py:3445: calling dropout (from tensorflow.python.ops.nn_ops) with keep_prob is deprecated and will be removed in a future version.\n",
      "Instructions for updating:\n",
      "Please use `rate` instead of `keep_prob`. Rate should be set to `rate = 1 - keep_prob`.\n",
      "_________________________________________________________________\n",
      "Layer (type)                 Output Shape              Param #   \n",
      "=================================================================\n",
      "dense_3 (Dense)              (None, 512)               401920    \n",
      "_________________________________________________________________\n",
      "dropout_1 (Dropout)          (None, 512)               0         \n",
      "_________________________________________________________________\n",
      "dense_4 (Dense)              (None, 512)               262656    \n",
      "_________________________________________________________________\n",
      "dropout_2 (Dropout)          (None, 512)               0         \n",
      "_________________________________________________________________\n",
      "dense_5 (Dense)              (None, 10)                5130      \n",
      "=================================================================\n",
      "Total params: 669,706\n",
      "Trainable params: 669,706\n",
      "Non-trainable params: 0\n",
      "_________________________________________________________________\n"
     ]
    }
   ],
   "source": [
    "model = Sequential()\n",
    "model.add(Dense(512, activation='relu',\n",
    "                  input_shape=(784,)))   # First layer only\n",
    "model.add(Dropout(0.2))\n",
    "model.add(Dense(512, activation='relu'))\n",
    "model.add(Dropout(0.2))\n",
    "model.add(Dense(num_classes, activation='softmax'))\n",
    "\n",
    "model.summary()\n",
    "\n",
    "model.compile(loss='categorical_crossentropy',\n",
    "                         optimizer='sgd',\n",
    "                         metrics=['accuracy'])"
   ]
  },
  {
   "cell_type": "code",
   "execution_count": 8,
   "metadata": {},
   "outputs": [
    {
     "name": "stdout",
     "output_type": "stream",
     "text": [
      "WARNING:tensorflow:From /Users/sophienam/anaconda3/lib/python3.7/site-packages/tensorflow/python/ops/math_ops.py:3066: to_int32 (from tensorflow.python.ops.math_ops) is deprecated and will be removed in a future version.\n",
      "Instructions for updating:\n",
      "Use tf.cast instead.\n",
      "Train on 60000 samples, validate on 10000 samples\n",
      "Epoch 1/20\n",
      "60000/60000 [==============================] - 4s 71us/step - loss: 1.2114 - acc: 0.6908 - val_loss: 0.5362 - val_acc: 0.8697\n",
      "Epoch 2/20\n",
      "60000/60000 [==============================] - 3s 55us/step - loss: 0.5283 - acc: 0.8505 - val_loss: 0.3771 - val_acc: 0.8967\n",
      "Epoch 3/20\n",
      "60000/60000 [==============================] - 3s 55us/step - loss: 0.4226 - acc: 0.8785 - val_loss: 0.3237 - val_acc: 0.9092\n",
      "Epoch 4/20\n",
      "60000/60000 [==============================] - 3s 57us/step - loss: 0.3749 - acc: 0.8910 - val_loss: 0.2944 - val_acc: 0.9187\n",
      "Epoch 5/20\n",
      "60000/60000 [==============================] - 3s 57us/step - loss: 0.3417 - acc: 0.9014 - val_loss: 0.2718 - val_acc: 0.9243\n",
      "Epoch 6/20\n",
      "60000/60000 [==============================] - 3s 55us/step - loss: 0.3171 - acc: 0.9074 - val_loss: 0.2543 - val_acc: 0.9286\n",
      "Epoch 7/20\n",
      "60000/60000 [==============================] - 3s 57us/step - loss: 0.2982 - acc: 0.9152 - val_loss: 0.2405 - val_acc: 0.9301\n",
      "Epoch 8/20\n",
      "60000/60000 [==============================] - 3s 55us/step - loss: 0.2796 - acc: 0.9191 - val_loss: 0.2283 - val_acc: 0.9357\n",
      "Epoch 9/20\n",
      "60000/60000 [==============================] - 3s 54us/step - loss: 0.2658 - acc: 0.9235 - val_loss: 0.2181 - val_acc: 0.9375\n",
      "Epoch 10/20\n",
      "60000/60000 [==============================] - 3s 56us/step - loss: 0.2521 - acc: 0.9268 - val_loss: 0.2078 - val_acc: 0.9403\n",
      "Epoch 11/20\n",
      "60000/60000 [==============================] - 3s 55us/step - loss: 0.2407 - acc: 0.9298 - val_loss: 0.1990 - val_acc: 0.9417\n",
      "Epoch 12/20\n",
      "60000/60000 [==============================] - 3s 57us/step - loss: 0.2316 - acc: 0.9329 - val_loss: 0.1906 - val_acc: 0.9444\n",
      "Epoch 13/20\n",
      "60000/60000 [==============================] - 4s 59us/step - loss: 0.2226 - acc: 0.9353 - val_loss: 0.1834 - val_acc: 0.9467\n",
      "Epoch 14/20\n",
      "60000/60000 [==============================] - 3s 56us/step - loss: 0.2163 - acc: 0.9375 - val_loss: 0.1771 - val_acc: 0.9488\n",
      "Epoch 15/20\n",
      "60000/60000 [==============================] - 3s 57us/step - loss: 0.2067 - acc: 0.9401 - val_loss: 0.1706 - val_acc: 0.9501\n",
      "Epoch 16/20\n",
      "60000/60000 [==============================] - 3s 57us/step - loss: 0.1998 - acc: 0.9416 - val_loss: 0.1648 - val_acc: 0.9513\n",
      "Epoch 17/20\n",
      "60000/60000 [==============================] - 3s 58us/step - loss: 0.1922 - acc: 0.9448 - val_loss: 0.1604 - val_acc: 0.9525\n",
      "Epoch 18/20\n",
      "60000/60000 [==============================] - 3s 56us/step - loss: 0.1845 - acc: 0.9460 - val_loss: 0.1553 - val_acc: 0.9534\n",
      "Epoch 19/20\n",
      "60000/60000 [==============================] - 3s 56us/step - loss: 0.1798 - acc: 0.9479 - val_loss: 0.1500 - val_acc: 0.9550\n",
      "Epoch 20/20\n",
      "60000/60000 [==============================] - 3s 57us/step - loss: 0.1748 - acc: 0.9494 - val_loss: 0.1468 - val_acc: 0.9554\n",
      "Test loss: 0.14678117026127874\n",
      "Tess accuracy: 0.9554\n"
     ]
    }
   ],
   "source": [
    "model.fit(x_train, y_train, batch_size=batch_size,\n",
    "               epochs=epochs, validation_data = (x_test, y_test))\n",
    "\n",
    "score = model.evaluate(x_test, y_test, verbose=0)\n",
    "print('Test loss:', score[0])\n",
    "print('Tess accuracy:', score[1])"
   ]
  },
  {
   "cell_type": "code",
   "execution_count": 11,
   "metadata": {},
   "outputs": [
    {
     "name": "stdout",
     "output_type": "stream",
     "text": [
      "Downloading data from https://s3.amazonaws.com/text-datasets/imdb.npz\n",
      "17465344/17464789 [==============================] - 28s 2us/step\n"
     ]
    }
   ],
   "source": [
    "from keras.preprocessing import sequence\n",
    "from keras.models import Sequential\n",
    "from keras.layers import Dense, Embedding\n",
    "from keras.layers import LSTM\n",
    "from keras.datasets import imdb\n",
    "\n",
    "max_features = 20000\n",
    "maxlen = 80\n",
    "\n",
    "(x_train, y_train), (x_test, y_test) = \\\n",
    "    imdb.load_data(num_words=max_features)"
   ]
  },
  {
   "cell_type": "code",
   "execution_count": 12,
   "metadata": {},
   "outputs": [],
   "source": [
    "x_train = sequence.pad_sequences(x_train, maxlen=maxlen)\n",
    "x_test = sequence.pad_sequences(x_test, maxlen=maxlen)\n",
    "\n",
    "model = Sequential()\n",
    "model.add(Embedding(max_features, 128))\n",
    "model.add(LSTM(128, dropout=0.2, recurrent_dropout=0.2))\n",
    "model.add(Dense(1, activation='sigmoid'))"
   ]
  },
  {
   "cell_type": "code",
   "execution_count": 13,
   "metadata": {},
   "outputs": [
    {
     "name": "stdout",
     "output_type": "stream",
     "text": [
      "Train on 25000 samples, validate on 25000 samples\n",
      "Epoch 1/15\n",
      "25000/25000 [==============================] - 76s 3ms/step - loss: 0.6931 - acc: 0.5042 - val_loss: 0.6929 - val_acc: 0.5002\n",
      "Epoch 2/15\n",
      "25000/25000 [==============================] - 78s 3ms/step - loss: 0.6928 - acc: 0.5130 - val_loss: 0.6926 - val_acc: 0.5275\n",
      "Epoch 3/15\n",
      "25000/25000 [==============================] - 77s 3ms/step - loss: 0.6925 - acc: 0.5183 - val_loss: 0.6924 - val_acc: 0.5135\n",
      "Epoch 4/15\n",
      "25000/25000 [==============================] - 73s 3ms/step - loss: 0.6922 - acc: 0.5286 - val_loss: 0.6921 - val_acc: 0.5205\n",
      "Epoch 5/15\n",
      "25000/25000 [==============================] - 75s 3ms/step - loss: 0.6919 - acc: 0.5424 - val_loss: 0.6918 - val_acc: 0.5590\n",
      "Epoch 6/15\n",
      "25000/25000 [==============================] - 74s 3ms/step - loss: 0.6917 - acc: 0.5482 - val_loss: 0.6916 - val_acc: 0.5230\n",
      "Epoch 7/15\n",
      "25000/25000 [==============================] - 76s 3ms/step - loss: 0.6913 - acc: 0.5510 - val_loss: 0.6912 - val_acc: 0.5278\n",
      "Epoch 8/15\n",
      "25000/25000 [==============================] - 77s 3ms/step - loss: 0.6908 - acc: 0.5487 - val_loss: 0.6907 - val_acc: 0.5765\n",
      "Epoch 9/15\n",
      "25000/25000 [==============================] - 76s 3ms/step - loss: 0.6903 - acc: 0.5632 - val_loss: 0.6902 - val_acc: 0.5712\n",
      "Epoch 10/15\n",
      "25000/25000 [==============================] - 73s 3ms/step - loss: 0.6897 - acc: 0.5734 - val_loss: 0.6897 - val_acc: 0.5586\n",
      "Epoch 11/15\n",
      "25000/25000 [==============================] - 76s 3ms/step - loss: 0.6890 - acc: 0.5690 - val_loss: 0.6889 - val_acc: 0.5920\n",
      "Epoch 12/15\n",
      "25000/25000 [==============================] - 75s 3ms/step - loss: 0.6882 - acc: 0.5804 - val_loss: 0.6879 - val_acc: 0.5946\n",
      "Epoch 13/15\n",
      "25000/25000 [==============================] - 73s 3ms/step - loss: 0.6871 - acc: 0.5897 - val_loss: 0.6867 - val_acc: 0.5976\n",
      "Epoch 14/15\n",
      "25000/25000 [==============================] - 70s 3ms/step - loss: 0.6855 - acc: 0.5906 - val_loss: 0.6850 - val_acc: 0.6023\n",
      "Epoch 15/15\n",
      "25000/25000 [==============================] - 70s 3ms/step - loss: 0.6832 - acc: 0.6027 - val_loss: 0.6822 - val_acc: 0.6095\n",
      "25000/25000 [==============================] - 10s 416us/step\n"
     ]
    },
    {
     "data": {
      "text/plain": [
       "[0.682210006866455, 0.60948]"
      ]
     },
     "execution_count": 13,
     "metadata": {},
     "output_type": "execute_result"
    }
   ],
   "source": [
    "model.compile(loss='binary_crossentropy',\n",
    "                         optimizer='sgd',\n",
    "                         metrics=['accuracy'])\n",
    "\n",
    "model.fit(x_train, y_train,\n",
    "                batch_size=32, epochs=15,\n",
    "                validation_data=(x_test, y_test))\n",
    "\n",
    "model.evaluate(x_test, y_test, batch_size=32)"
   ]
  }
 ],
 "metadata": {
  "kernelspec": {
   "display_name": "Python 3",
   "language": "python",
   "name": "python3"
  },
  "language_info": {
   "codemirror_mode": {
    "name": "ipython",
    "version": 3
   },
   "file_extension": ".py",
   "mimetype": "text/x-python",
   "name": "python",
   "nbconvert_exporter": "python",
   "pygments_lexer": "ipython3",
   "version": "3.7.3"
  }
 },
 "nbformat": 4,
 "nbformat_minor": 2
}
